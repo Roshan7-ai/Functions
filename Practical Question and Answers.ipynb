{
 "cells": [
  {
   "cell_type": "markdown",
   "id": "35bb95a2-6da7-4b01-892c-a656ca8eec90",
   "metadata": {},
   "source": [
    "# PRACTICAL QUESTIONS"
   ]
  },
  {
   "cell_type": "markdown",
   "id": "3d8a8a8d-e438-4485-8443-91aae20dcea1",
   "metadata": {},
   "source": [
    "# Question 1"
   ]
  },
  {
   "cell_type": "markdown",
   "id": "6f10e84d-e333-4055-8f05-e99f0622e411",
   "metadata": {},
   "source": [
    "## Write a Python function that takes a list of numbers as input and returns the sum of all even numbers in the list."
   ]
  },
  {
   "cell_type": "code",
   "execution_count": 17,
   "id": "8432e083-c124-4a0b-9ba7-1bd3dc0c99d1",
   "metadata": {},
   "outputs": [
    {
     "name": "stdout",
     "output_type": "stream",
     "text": [
      "Sum of even numbers: 30\n"
     ]
    }
   ],
   "source": [
    "def sum_of_even_numbers(numbers):\n",
    "    return sum(num for num in numbers if num % 2 == 0)\n",
    "\n",
    "# Example usage:\n",
    "numbers = [1, 2, 3, 4, 5, 6, 7, 8, 9, 10]\n",
    "result = sum_of_even_numbers(numbers)\n",
    "print(\"Sum of even numbers:\", result) # Output: Sum of even numbers: 30"
   ]
  },
  {
   "cell_type": "raw",
   "id": "a523e52b-86b5-45fd-a805-37b3f7d705a2",
   "metadata": {},
   "source": [
    ">> In the above function, a generator expression is used to filter out even numbers (num % 2 == 0), and sum() computes the total."
   ]
  },
  {
   "cell_type": "markdown",
   "id": "aa3fe2c8-12a4-41e7-8d1e-9072f4995c79",
   "metadata": {},
   "source": [
    "# Question 2"
   ]
  },
  {
   "cell_type": "markdown",
   "id": "4e215202-82a8-45fb-8444-846b71767581",
   "metadata": {},
   "source": [
    "## Create a Python function that accepts a string and returns the reverse of that string."
   ]
  },
  {
   "cell_type": "code",
   "execution_count": 18,
   "id": "66955685-fe5f-4361-b8d5-d86489047447",
   "metadata": {},
   "outputs": [
    {
     "name": "stdout",
     "output_type": "stream",
     "text": [
      "!dlroW olleH\n"
     ]
    }
   ],
   "source": [
    "def reverse_string(input_string):\n",
    "    return input_string[::-1]\n",
    "\n",
    "# Example usage:\n",
    "result = reverse_string(\"Hello World!\")\n",
    "print(result)  # Output: !dlroW olleH"
   ]
  },
  {
   "cell_type": "raw",
   "id": "fd5b960d-62ff-4a5f-b0ce-9f2ba3033b14",
   "metadata": {},
   "source": [
    ">> The above function uses Python's string slicing feature to reverse the input string. The slice [::-1] means \"start at the end of the string and end at the start, moving backwards by 1.\""
   ]
  },
  {
   "cell_type": "markdown",
   "id": "ee3af4f7-af4d-443b-a856-3bec7859e81f",
   "metadata": {},
   "source": [
    "# Question 3"
   ]
  },
  {
   "cell_type": "markdown",
   "id": "9797eb12-0164-4677-acc1-633215969356",
   "metadata": {},
   "source": [
    "## Implement a Python function that takes a list of integers and returns a new list containing the squares of each number."
   ]
  },
  {
   "cell_type": "code",
   "execution_count": 19,
   "id": "14e87143-ac8b-4203-99ca-572a138b9f45",
   "metadata": {},
   "outputs": [
    {
     "name": "stdout",
     "output_type": "stream",
     "text": [
      "[1, 4, 9, 16, 25]\n"
     ]
    }
   ],
   "source": [
    "def square_numbers(numbers):\n",
    "    return [num ** 2 for num in numbers]\n",
    "\n",
    "# Example usage:\n",
    "numbers = [1, 2, 3, 4, 5]\n",
    "squared_numbers = square_numbers(numbers)\n",
    "print(squared_numbers)  # Output: [1, 4, 9, 16, 25]"
   ]
  },
  {
   "cell_type": "raw",
   "id": "3c85eebe-4c2e-4c26-b7cb-c36ce76fe6c2",
   "metadata": {},
   "source": [
    ">> This function uses a list comprehension to iterate over each number in the input list and returns the square of each element."
   ]
  },
  {
   "cell_type": "markdown",
   "id": "8bb32ae4-e942-4905-bcc1-108f6413e5bd",
   "metadata": {},
   "source": [
    "# Question 4"
   ]
  },
  {
   "cell_type": "markdown",
   "id": "db35241a-3c56-43b6-b68c-1c8f1b510016",
   "metadata": {},
   "source": [
    "## Write a Python function that checks if a given number is prime or not from 1 to 200."
   ]
  },
  {
   "cell_type": "code",
   "execution_count": 4,
   "id": "46a01777-a45a-4b95-81d6-b43909e55f00",
   "metadata": {},
   "outputs": [
    {
     "name": "stdout",
     "output_type": "stream",
     "text": [
      "2 is a prime number.\n",
      "3 is a prime number.\n",
      "5 is a prime number.\n",
      "7 is a prime number.\n",
      "11 is a prime number.\n",
      "13 is a prime number.\n",
      "17 is a prime number.\n",
      "19 is a prime number.\n",
      "23 is a prime number.\n",
      "29 is a prime number.\n",
      "31 is a prime number.\n",
      "37 is a prime number.\n",
      "41 is a prime number.\n",
      "43 is a prime number.\n",
      "47 is a prime number.\n",
      "53 is a prime number.\n",
      "59 is a prime number.\n",
      "61 is a prime number.\n",
      "67 is a prime number.\n",
      "71 is a prime number.\n",
      "73 is a prime number.\n",
      "79 is a prime number.\n",
      "83 is a prime number.\n",
      "89 is a prime number.\n",
      "97 is a prime number.\n",
      "101 is a prime number.\n",
      "103 is a prime number.\n",
      "107 is a prime number.\n",
      "109 is a prime number.\n",
      "113 is a prime number.\n",
      "127 is a prime number.\n",
      "131 is a prime number.\n",
      "137 is a prime number.\n",
      "139 is a prime number.\n",
      "149 is a prime number.\n",
      "151 is a prime number.\n",
      "157 is a prime number.\n",
      "163 is a prime number.\n",
      "167 is a prime number.\n",
      "173 is a prime number.\n",
      "179 is a prime number.\n",
      "181 is a prime number.\n",
      "191 is a prime number.\n",
      "193 is a prime number.\n",
      "197 is a prime number.\n",
      "199 is a prime number.\n"
     ]
    }
   ],
   "source": [
    "def is_prime(n):\n",
    "    \"\"\"Check if a number n is a prime number.\"\"\"\n",
    "    if n <= 1:\n",
    "        return False\n",
    "    if n <= 3:\n",
    "        return True\n",
    "    if n % 2 == 0 or n % 3 == 0:\n",
    "        return False\n",
    "    i = 5\n",
    "    while i * i <= n:\n",
    "        if n % i == 0 or n % (i + 2) == 0:\n",
    "            return False\n",
    "        i += 6\n",
    "    return True\n",
    "\n",
    "# Example usage:\n",
    "for number in range(1, 201):\n",
    "    if is_prime(number):\n",
    "        print(f\"{number} is a prime number.\")"
   ]
  },
  {
   "cell_type": "markdown",
   "id": "d6b6f64a-8e4e-4ed9-95e0-ce3d797591f8",
   "metadata": {},
   "source": [
    "### Explanation:"
   ]
  },
  {
   "cell_type": "raw",
   "id": "d998c205-25f0-432f-bd07-132f51d8095d",
   "metadata": {},
   "source": [
    ">> Check if 'n' is less than or equal to 1: Numbers less than or equal to 1 are not prime.\n",
    "\n",
    ">> Check if 'n' is less than or equal to 3: 2 and 3 are prime numbers.\n",
    "\n",
    ">> Check divisibility by 2 or 3: If 'n' is divisible by 2 or 3, it's not prime.\n",
    "\n",
    ">> Check divisibility from 5 onwards: Use a loop to check for factors from 5 up to the square root of 'n'. Increment by 6 to skip even numbers and multiples of 3.\n",
    "\n",
    ">> This function efficiently determines the primality of numbers up to 200."
   ]
  },
  {
   "cell_type": "markdown",
   "id": "f33e32dc-52ce-416f-a03c-8d6575814487",
   "metadata": {},
   "source": [
    "# Question 5"
   ]
  },
  {
   "cell_type": "markdown",
   "id": "777bae80-e1b8-4d1d-9d30-d171e9b724f3",
   "metadata": {},
   "source": [
    "## Create an iterator class in Python that generates Fibonacci sequence up to a specified number of terms."
   ]
  },
  {
   "cell_type": "code",
   "execution_count": 13,
   "id": "375edf4d-940d-49bf-83c5-5bc42cc2832f",
   "metadata": {},
   "outputs": [
    {
     "name": "stdin",
     "output_type": "stream",
     "text": [
      "How many terms?  10\n"
     ]
    },
    {
     "name": "stdout",
     "output_type": "stream",
     "text": [
      "Fibonacci sequence:\n",
      "0\n",
      "1\n",
      "1\n",
      "2\n",
      "3\n",
      "5\n",
      "8\n",
      "13\n",
      "21\n",
      "34\n"
     ]
    }
   ],
   "source": [
    "nterms = int(input(\"How many terms? \"))\n",
    "\n",
    "# first two terms\n",
    "n1, n2 = 0, 1\n",
    "count = 0\n",
    "\n",
    "# check if the number of terms is valid\n",
    "if nterms <= 0:\n",
    "   print(\"Please enter a positive integer\")\n",
    "# if there is only one term, return n1\n",
    "elif nterms == 1:\n",
    "   print(\"Fibonacci sequence upto\",nterms,\":\")\n",
    "   print(n1)\n",
    "# generate fibonacci sequence\n",
    "else:\n",
    "   print(\"Fibonacci sequence:\")\n",
    "   while count < nterms:\n",
    "       print(n1)\n",
    "       nth = n1 + n2\n",
    "       # update values\n",
    "       n1 = n2\n",
    "       n2 = nth\n",
    "       count += 1"
   ]
  },
  {
   "cell_type": "markdown",
   "id": "1870fcbe-8c16-471b-bc2a-141ec9b6a03d",
   "metadata": {},
   "source": [
    "# Question 6"
   ]
  },
  {
   "cell_type": "markdown",
   "id": "99ba52fd-96d1-4e15-81fe-dbf5af3b570e",
   "metadata": {},
   "source": [
    "## Write a generator function in Python that yields the powers of 2 up to a given exponent."
   ]
  },
  {
   "cell_type": "code",
   "execution_count": 1,
   "id": "788ca6c2-acbb-413b-ac10-45bd7d98f77d",
   "metadata": {},
   "outputs": [
    {
     "name": "stdout",
     "output_type": "stream",
     "text": [
      "1\n",
      "2\n",
      "4\n",
      "8\n",
      "16\n",
      "32\n"
     ]
    }
   ],
   "source": [
    "def powers_of_two(n):\n",
    "    \"\"\"Generator that yields powers of 2 up to 2^n.\"\"\"\n",
    "    for i in range(n + 1):\n",
    "        yield 2 ** i\n",
    "\n",
    "# Example usage:\n",
    "for power in powers_of_two(5):\n",
    "    print(power)"
   ]
  },
  {
   "cell_type": "markdown",
   "id": "26d74b7b-1442-4889-a5d8-7bff38d1367b",
   "metadata": {},
   "source": [
    "### Explanation:"
   ]
  },
  {
   "cell_type": "raw",
   "id": "d9708d7f-324f-4db9-9991-86d991b1d8cc",
   "metadata": {},
   "source": [
    ">> The function powers_of_two(n) takes an integer n as an argument.\n",
    "\n",
    ">> It uses a for loop to iterate from 0 to n (inclusive).\n",
    "\n",
    ">> For each iteration, it yields 2^i, where i is the current value in the loop.\n",
    "\n",
    ">> You can iterate through the generator using a loop (as shown in the example) or use functions like list() to gather the values into a list."
   ]
  },
  {
   "cell_type": "markdown",
   "id": "b2089ec1-129d-43ce-b9f0-f63393e5816b",
   "metadata": {},
   "source": [
    "# Question 7"
   ]
  },
  {
   "cell_type": "markdown",
   "id": "de3c7758-cd99-4740-b313-3f65050b3c5a",
   "metadata": {},
   "source": [
    "## Implement a generator function that reads a file line by line and yields each line as a string.\n"
   ]
  },
  {
   "cell_type": "code",
   "execution_count": 46,
   "id": "eaa3bc44-6528-4e53-86fc-e2a7bc460838",
   "metadata": {},
   "outputs": [],
   "source": [
    "# Here is a Python generator function that reads a file line by line and yields each line as a string:\n",
    "\n",
    "def read_file_line_by_line(file_path):\n",
    "    with open(file_path, 'r') as file:\n",
    "        for line in file:\n",
    "            yield line.rstrip()  # Remove the newline character at the end of each line"
   ]
  },
  {
   "cell_type": "markdown",
   "id": "c4b79acb-999a-4dd0-ab8f-e74bfc1fa78b",
   "metadata": {},
   "source": [
    "### Usage Example:"
   ]
  },
  {
   "cell_type": "raw",
   "id": "e3c57f2f-ae82-42a4-a08d-0604c24255e0",
   "metadata": {},
   "source": [
    "for line in read_file_line_by_line('your_file.txt'):\n",
    "    print(line)"
   ]
  },
  {
   "cell_type": "raw",
   "id": "4c4d9b87-ca0e-44ff-bf1b-047249a6ab8e",
   "metadata": {},
   "source": [
    ">> This generator will open the file, read it line by line, and yield each line without the trailing newline character (\\n)."
   ]
  },
  {
   "cell_type": "markdown",
   "id": "3ca95c62-513f-4dbd-9529-425dc63f134f",
   "metadata": {},
   "source": [
    "# Question 8"
   ]
  },
  {
   "cell_type": "markdown",
   "id": "9c30d5b0-ccc9-4e31-9ff1-8027013f971e",
   "metadata": {},
   "source": [
    "## Use a lambda function in Python to sort a list of tuples based on the second element of each tuple."
   ]
  },
  {
   "cell_type": "code",
   "execution_count": 18,
   "id": "408bd824-c57e-413a-b827-fe926b423772",
   "metadata": {},
   "outputs": [
    {
     "name": "stdout",
     "output_type": "stream",
     "text": [
      "[(2, 1), (3, 2), (1, 5), (4, 7)]\n"
     ]
    }
   ],
   "source": [
    "# Sample list of tuples\n",
    "tuples_list = [(1, 5), (3, 2), (4, 7), (2, 1)]\n",
    "\n",
    "# Sort the list based on the second element of each tuple\n",
    "sorted_list = sorted(tuples_list, key=lambda x: x[1])\n",
    "\n",
    "# Print the sorted list\n",
    "print(sorted_list) # Output : [(2, 1), (3, 2), (1, 5), (4, 7)]"
   ]
  },
  {
   "cell_type": "raw",
   "id": "927c501d-2254-40d2-9ddc-891717fa03bf",
   "metadata": {},
   "source": [
    ">> In this code, the lambda x: x[1] extracts the second element from each tuple (x[1]) and sorted uses that as the key for sorting."
   ]
  },
  {
   "cell_type": "markdown",
   "id": "534727e6-f1d3-4be9-86a8-f30a5080a1c0",
   "metadata": {},
   "source": [
    "# Question 9"
   ]
  },
  {
   "cell_type": "markdown",
   "id": "83605267-140b-438e-bc5b-d8f128c085ac",
   "metadata": {},
   "source": [
    "## Write a Python program that uses 'map()' to convert a list of temperatures from Celsius to Fahrenheit."
   ]
  },
  {
   "cell_type": "code",
   "execution_count": 19,
   "id": "8949237c-e3f2-4ec0-83b0-59afa86826bb",
   "metadata": {},
   "outputs": [
    {
     "name": "stdout",
     "output_type": "stream",
     "text": [
      "Celsius temperatures: [0, 10, 20, 30, 40]\n",
      "Fahrenheit temperatures: [32.0, 50.0, 68.0, 86.0, 104.0]\n"
     ]
    }
   ],
   "source": [
    "# Define a function to convert Celsius to Fahrenheit\n",
    "def celsius_to_fahrenheit(celsius):\n",
    "    return (celsius * 9/5) + 32\n",
    "\n",
    "# List of temperatures in Celsius\n",
    "celsius_temps = [0, 10, 20, 30, 40]\n",
    "\n",
    "# Use map() to apply the conversion function to each element in the list\n",
    "fahrenheit_temps = list(map(celsius_to_fahrenheit, celsius_temps))\n",
    "\n",
    "# Print the results\n",
    "print(\"Celsius temperatures:\", celsius_temps)\n",
    "print(\"Fahrenheit temperatures:\", fahrenheit_temps)"
   ]
  },
  {
   "cell_type": "markdown",
   "id": "47f29ee9-4feb-426e-bfad-3dc8de6db3d3",
   "metadata": {},
   "source": [
    "### Explanation"
   ]
  },
  {
   "cell_type": "raw",
   "id": "4e15f8ad-5e10-4ccb-a018-c2193314ecf9",
   "metadata": {},
   "source": [
    ">> We define a function celsius_to_fahrenheit that converts a temperature from Celsius to Fahrenheit.\n",
    "\n",
    ">> We have a list of temperatures in Celsius called celsius_temps.\n",
    "\n",
    ">> We use map() to apply the celsius_to_fahrenheit function to each element in the celsius_temps list.\n",
    "\n",
    ">> Finally, we convert the result from map() to a list and print both the original Celsius temperatures and the converted Fahrenheit temperatures."
   ]
  },
  {
   "cell_type": "markdown",
   "id": "1d992225-71bf-4f7e-b291-68c3cafdfb54",
   "metadata": {},
   "source": [
    "# Question 10"
   ]
  },
  {
   "cell_type": "markdown",
   "id": "7e20270c-66b2-44b0-93f5-72621727d035",
   "metadata": {},
   "source": [
    "## Create a Python program that uses 'filter()' to remove all the vowels from a given string."
   ]
  },
  {
   "cell_type": "code",
   "execution_count": 29,
   "id": "b0c3867b-85ff-4f44-916d-95078eb720fb",
   "metadata": {},
   "outputs": [
    {
     "name": "stdout",
     "output_type": "stream",
     "text": [
      "Original String: Hello World!\n",
      "String without vowels: Hll Wrld!\n"
     ]
    }
   ],
   "source": [
    "def remove_vowels(input_string):\n",
    "    vowels = 'aeiouAEIOU'\n",
    "    # Use filter() to remove vowels from the input_string\n",
    "    filtered_chars = filter(lambda char: char not in vowels, input_string)\n",
    "    # Join the filtered characters back into a string\n",
    "    result_string = ''.join(filtered_chars)\n",
    "    return result_string\n",
    "\n",
    "# Example usage\n",
    "input_string = \"Hello World!\"\n",
    "print(\"Original String:\", input_string)\n",
    "print(\"String without vowels:\", remove_vowels(input_string))"
   ]
  },
  {
   "cell_type": "markdown",
   "id": "f8290bab-3dc7-42a5-867a-49e0fe427263",
   "metadata": {},
   "source": [
    "# Question 11"
   ]
  },
  {
   "cell_type": "markdown",
   "id": "2009a4cf-d35b-4581-8fb4-fa18b292c028",
   "metadata": {},
   "source": [
    "## Imagine an accounting routine used in a book shop. It works on a list with sublists,which look like this:\n",
    "\n",
    "### Order Number        \n",
    "#### 1. 34587\n",
    "#### 2. 98762\n",
    "#### 3. 77226\n",
    "#### 4. 88112\n",
    "### Book Title and Author\n",
    "#### 1. Learning Python,Mark Lutz\n",
    "#### 2. Programming Python,Mark Lutz\n",
    "#### 3. Head First Python,Paul Barry\n",
    "#### 4. Einführungin Python3,Bernd Klein\n",
    "### Quantity\n",
    "#### 1. 4\n",
    "#### 2. 5\n",
    "#### 3. 3\n",
    "#### 4. 3\n",
    "### Price per Item\n",
    "#### 1. 40.95\n",
    "#### 2. 56.80\n",
    "#### 3. 32.95\n",
    "#### 4. 24.99\n",
    "\n",
    "## Write a Python program, which returns a list with 2-tuples.Each tuple consists of the order number and the product of price per item and quantity.The product should be increased by 10,-€ if the value of the order is smaller than 100,00€.\n",
    "## Write a Python Program using lambda and map."
   ]
  },
  {
   "cell_type": "code",
   "execution_count": 34,
   "id": "efae99a3-14ac-4d6c-a6b7-b7f41bebcc3d",
   "metadata": {},
   "outputs": [
    {
     "name": "stdout",
     "output_type": "stream",
     "text": [
      "[(34587, 163.8), (98762, 284.0), (77226, 108.85000000000001), (88112, 84.97)]\n"
     ]
    }
   ],
   "source": [
    "# Data provided\n",
    "order_numbers = [34587, 98762, 77226, 88112]\n",
    "book_titles_and_authors = [\n",
    "    \"Learning Python,Mark Lutz\",\n",
    "    \"Programming Python,Mark Lutz\",\n",
    "    \"Head First Python,Paul Barry\",\n",
    "    \"Einführung in Python3,Bernd Klein\"\n",
    "]\n",
    "quantities = [4, 5, 3, 3]\n",
    "prices_per_item = [40.95, 56.80, 32.95, 24.99]\n",
    "\n",
    "# Lambda function to calculate total price with adjustment\n",
    "calculate_total_price = lambda qty, price: qty * price + (10 if qty * price < 100 else 0)\n",
    "\n",
    "# Map function to create list of 2-tuples\n",
    "result = list(map(\n",
    "    lambda i: (order_numbers[i], calculate_total_price(quantities[i], prices_per_item[i])),\n",
    "    range(len(order_numbers))\n",
    "))\n",
    "\n",
    "# Print the result\n",
    "print(result)"
   ]
  },
  {
   "cell_type": "code",
   "execution_count": null,
   "id": "26d96048-f042-4446-8826-e575347177de",
   "metadata": {},
   "outputs": [],
   "source": []
  },
  {
   "cell_type": "code",
   "execution_count": null,
   "id": "34214df9-6581-4a12-8b35-0207645d1989",
   "metadata": {},
   "outputs": [],
   "source": []
  }
 ],
 "metadata": {
  "kernelspec": {
   "display_name": "Python 3 (ipykernel)",
   "language": "python",
   "name": "python3"
  },
  "language_info": {
   "codemirror_mode": {
    "name": "ipython",
    "version": 3
   },
   "file_extension": ".py",
   "mimetype": "text/x-python",
   "name": "python",
   "nbconvert_exporter": "python",
   "pygments_lexer": "ipython3",
   "version": "3.10.8"
  }
 },
 "nbformat": 4,
 "nbformat_minor": 5
}
