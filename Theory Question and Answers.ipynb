{
 "cells": [
  {
   "cell_type": "markdown",
   "id": "0a3cdc23-bccd-41d0-9745-15f59a6dc454",
   "metadata": {},
   "source": [
    "# Question 1"
   ]
  },
  {
   "cell_type": "markdown",
   "id": "f6793ffa-b734-4dd9-bac4-88fb11ae1a21",
   "metadata": {},
   "source": [
    "## What is the difference between a function and a method in Python?"
   ]
  },
  {
   "cell_type": "raw",
   "id": "ad66e43c-5305-4783-ae0a-156955454f9e",
   "metadata": {},
   "source": [
    ">> In Python, the terms function and method are often used interchangeably, but there are distinct differences between the two based on their context and usage."
   ]
  },
  {
   "cell_type": "markdown",
   "id": "b6e98e0e-1800-42d2-b9d8-7e8f9d100fe2",
   "metadata": {},
   "source": [
    "### 1. Function:"
   ]
  },
  {
   "cell_type": "markdown",
   "id": "c8556189-9b2a-4071-83d8-9a6a25789172",
   "metadata": {},
   "source": [
    "#### Definition:"
   ]
  },
  {
   "cell_type": "raw",
   "id": "f3ed4e16-0cdd-4bd1-9ddc-7de419a40ad6",
   "metadata": {},
   "source": [
    ">> A function is a block of reusable code that performs a specific task. It can take input (called parameters or arguments), process it, and return an output."
   ]
  },
  {
   "cell_type": "markdown",
   "id": "890644b4-9c10-4b16-a6f1-2e16a9dfd74a",
   "metadata": {},
   "source": [
    "#### Usage:"
   ]
  },
  {
   "cell_type": "raw",
   "id": "d916cc99-d05f-4f78-be55-0cd643347336",
   "metadata": {},
   "source": [
    ">> Functions are defined using the 'def' keyword and can exist independently, outside of any class. You can call them directly by their name."
   ]
  },
  {
   "cell_type": "markdown",
   "id": "46dfaa49-c075-4ef6-ab00-cbcbf3208269",
   "metadata": {},
   "source": [
    "#### Examples:"
   ]
  },
  {
   "cell_type": "code",
   "execution_count": 8,
   "id": "744dc095-ce03-4939-b92b-4a0d77ef80c8",
   "metadata": {},
   "outputs": [
    {
     "name": "stdout",
     "output_type": "stream",
     "text": [
      "8\n"
     ]
    }
   ],
   "source": [
    "# Example 1 for Function\n",
    "\n",
    "def add(a, b):\n",
    "    return a + b\n",
    "\n",
    "result = add(5, 3)  # Calling the function\n",
    "print(result)       # Output : 8"
   ]
  },
  {
   "cell_type": "code",
   "execution_count": 9,
   "id": "7c353843-7520-4274-a93b-58dc82df8f51",
   "metadata": {},
   "outputs": [
    {
     "name": "stdout",
     "output_type": "stream",
     "text": [
      "Hello, Alice\n"
     ]
    }
   ],
   "source": [
    "# Example 2 for Function\n",
    "\n",
    "def greet(name):\n",
    "    return f\"Hello, {name}\"\n",
    "\n",
    "print(greet(\"Alice\"))  # Output: Hello, Alice"
   ]
  },
  {
   "cell_type": "markdown",
   "id": "f4eeac60-e753-462b-8682-44e64d75c1bb",
   "metadata": {},
   "source": [
    "### 2. Method"
   ]
  },
  {
   "cell_type": "markdown",
   "id": "c38020aa-2603-4000-95a7-9ff3c48e870e",
   "metadata": {},
   "source": [
    "#### Definition:"
   ]
  },
  {
   "cell_type": "raw",
   "id": "e1e83152-94d0-485f-8216-9302b8b7c146",
   "metadata": {},
   "source": [
    ">> A method is a function that is associated with an object (or class). It is essentially a function that is defined inside a class and operates on the instance of the class (object).\n",
    "\n",
    "Usage: Methods are called on an object, and they automatically receive the object instance (self) as the first parameter. There are two main types of methods:\n",
    "Instance Methods: Operate on an instance of a class and have access to instance data.\n",
    "Class Methods: Operate on the class itself rather than instances of the class, and are defined using @classmethod decorator."
   ]
  },
  {
   "cell_type": "markdown",
   "id": "b32bf500-cefc-4bac-968c-088c142036d3",
   "metadata": {},
   "source": [
    "#### Usage: "
   ]
  },
  {
   "cell_type": "raw",
   "id": "5b244786-9edc-4c58-bd2c-8d5bba364cec",
   "metadata": {},
   "source": [
    ">> Methods are called on an object, and they automatically receive the object instance (self) as the first parameter.\n",
    "\n",
    ">> There are two main types of methods:\n",
    "\n",
    ">> Instance Methods: Operate on an instance of a class and have access to instance data.\n",
    "\n",
    ">> Class Methods: Operate on the class itself rather than instances of the class, and are defined using @classmethod decorator."
   ]
  },
  {
   "cell_type": "markdown",
   "id": "48c3f099-81e8-45f9-977f-36d2202d6314",
   "metadata": {},
   "source": [
    "#### Examples:"
   ]
  },
  {
   "cell_type": "code",
   "execution_count": 14,
   "id": "f5319445-9b29-4f85-88c1-0b68719e34db",
   "metadata": {},
   "outputs": [
    {
     "name": "stdout",
     "output_type": "stream",
     "text": [
      "5\n"
     ]
    }
   ],
   "source": [
    "# Example 1 for Method\n",
    "\n",
    "class Calculator:\n",
    "    def add(self, a, b):\n",
    "        return a + b\n",
    "\n",
    "calc = Calculator()\n",
    "result = calc.add(2, 3)  # Calling the method\n",
    "print(result)"
   ]
  },
  {
   "cell_type": "code",
   "execution_count": 15,
   "id": "f8904348-7983-4fa1-8a0f-f19cf54b964b",
   "metadata": {},
   "outputs": [
    {
     "name": "stdout",
     "output_type": "stream",
     "text": [
      "Hello, Alice\n"
     ]
    }
   ],
   "source": [
    "# Example 2 for Method\n",
    "\n",
    "class Person:\n",
    "    def __init__(self, name):\n",
    "        self.name = name\n",
    "    \n",
    "    def greet(self):\n",
    "        return f\"Hello, {self.name}\"\n",
    "\n",
    "p = Person(\"Alice\")\n",
    "print(p.greet())  # Output: Hello, Alice"
   ]
  },
  {
   "cell_type": "markdown",
   "id": "b420fb80-9386-45d2-bc23-1c6afdbd20d1",
   "metadata": {},
   "source": [
    "### Key Differences:"
   ]
  },
  {
   "cell_type": "markdown",
   "id": "7027dd07-f0c8-49a9-82de-d7d149855a80",
   "metadata": {},
   "source": [
    "#### 1. Association:"
   ]
  },
  {
   "cell_type": "raw",
   "id": "e2a1dd6f-87ad-4428-bd7a-b85a67e83b88",
   "metadata": {},
   "source": [
    ">> A function is independent of classes and objects.\n",
    "\n",
    ">> A method is always associated with a class and an object."
   ]
  },
  {
   "cell_type": "markdown",
   "id": "de4bb1df-40e4-461d-99eb-540c255329e7",
   "metadata": {},
   "source": [
    "#### 2. Calling:"
   ]
  },
  {
   "cell_type": "raw",
   "id": "daca85c8-dac8-477f-b489-a2172f4886e5",
   "metadata": {},
   "source": [
    ">> Functions are called directly by their name.\n",
    "\n",
    ">> Methods are called on an object, which is automatically passed as the first argument (self for instance methods)."
   ]
  },
  {
   "cell_type": "markdown",
   "id": "9e29a97a-c116-48e1-8963-ac03e177b783",
   "metadata": {},
   "source": [
    "#### 3. Parameter:"
   ]
  },
  {
   "cell_type": "raw",
   "id": "16e7d774-591e-4463-94d8-f281aaed9c7f",
   "metadata": {},
   "source": [
    ">> Methods (specifically instance methods) take self as the first parameter, which represents the instance of the class they are operating on. Functions don’t have this requirement."
   ]
  },
  {
   "cell_type": "markdown",
   "id": "cc18d3fa-dcb7-433c-94ff-3f47a6f044e4",
   "metadata": {},
   "source": [
    "### Summary:"
   ]
  },
  {
   "cell_type": "raw",
   "id": "e777bafc-3df6-44be-b9a0-8cb8753e0c62",
   "metadata": {},
   "source": [
    ">> The main distinction is that methods are functions tied to objects, whereas functions can exist independently outside of any class."
   ]
  },
  {
   "cell_type": "markdown",
   "id": "e1b2b255-2627-4172-8292-fbfed1a6164b",
   "metadata": {},
   "source": [
    "# Question 2"
   ]
  },
  {
   "cell_type": "markdown",
   "id": "871f3979-7900-45ee-9a41-f9d7d030cb06",
   "metadata": {},
   "source": [
    "## Explain the concept of function arguments and parameters in Python."
   ]
  },
  {
   "cell_type": "raw",
   "id": "7c7eea55-eb69-405e-988f-83754a284ea8",
   "metadata": {},
   "source": [
    ">> In Python, function arguments and parameters are terms related to how data is passed to functions. They are essential for understanding how a function is defined and called."
   ]
  },
  {
   "cell_type": "markdown",
   "id": "d7d93082-28c8-4a46-bc73-e95e05c58839",
   "metadata": {},
   "source": [
    "### Parameters"
   ]
  },
  {
   "cell_type": "raw",
   "id": "045939f0-5284-43ee-a2b6-ce955f37807a",
   "metadata": {},
   "source": [
    ">> Parameters are the variables listed inside the parentheses in the function definition. They act as placeholders for the values (arguments) that will be provided when the function is called."
   ]
  },
  {
   "cell_type": "markdown",
   "id": "cbeb8a9b-7d7f-4ed6-8d96-1555f53220c3",
   "metadata": {},
   "source": [
    "### Example"
   ]
  },
  {
   "cell_type": "code",
   "execution_count": 11,
   "id": "5ffaa4a3-d3d3-4258-bf3b-dc8e2fcb8679",
   "metadata": {},
   "outputs": [
    {
     "name": "stdout",
     "output_type": "stream",
     "text": [
      "Hello, Alice!\n"
     ]
    }
   ],
   "source": [
    "def greet(name):  # 'name' is a parameter\n",
    "    print(f\"Hello, {name}!\")\n",
    "greet(\"Alice\")"
   ]
  },
  {
   "cell_type": "markdown",
   "id": "4fe1f777-70c1-4c2f-bc08-6c95f75708e7",
   "metadata": {},
   "source": [
    "### Arguments"
   ]
  },
  {
   "cell_type": "raw",
   "id": "0ffbe63a-b3ac-4e16-b896-d9cb21159233",
   "metadata": {},
   "source": [
    ">> Arguments are the actual values or data you pass into the function when calling it. These values are assigned to the function's parameters."
   ]
  },
  {
   "cell_type": "code",
   "execution_count": 12,
   "id": "012ef562-e01e-436f-80cb-c5613a84aa7d",
   "metadata": {},
   "outputs": [
    {
     "name": "stdout",
     "output_type": "stream",
     "text": [
      "Hello, Alice!\n"
     ]
    }
   ],
   "source": [
    "def greet(name):  \n",
    "    print(f\"Hello, {name}!\")\n",
    "greet(\"Alice\")    # 'Alice' is an argument\n",
    "# Here, \"Alice\" is the argument, and when greet is called, \"Alice\" is passed to the name parameter."
   ]
  },
  {
   "cell_type": "markdown",
   "id": "f6af3fd2-7e26-4847-9c24-4896fabd7f47",
   "metadata": {},
   "source": [
    "### Types of Arguments in Python"
   ]
  },
  {
   "cell_type": "markdown",
   "id": "8b79c02b-d490-4ab5-9c7f-4975724a7470",
   "metadata": {},
   "source": [
    "#### 1. Positional Arguments:"
   ]
  },
  {
   "cell_type": "raw",
   "id": "65cec9a6-0681-48c2-9b96-c2c5f9a450cf",
   "metadata": {},
   "source": [
    ">> The most common type where the order in which you pass arguments matters."
   ]
  },
  {
   "cell_type": "code",
   "execution_count": 2,
   "id": "e1754317-b087-46aa-9256-c6b88b728ff5",
   "metadata": {},
   "outputs": [
    {
     "name": "stdout",
     "output_type": "stream",
     "text": [
      "15\n"
     ]
    }
   ],
   "source": [
    "# Example for Positional Arguments:\n",
    "\n",
    "def add(a, b):\n",
    "    return a + b\n",
    "\n",
    "result = add(5, 10)  # 5 is passed to 'a', and 10 is passed to 'b'\n",
    "print(result)"
   ]
  },
  {
   "cell_type": "markdown",
   "id": "e8de3849-046c-4328-91ab-7849901ce786",
   "metadata": {},
   "source": [
    "#### 2. Keyword Arguments:"
   ]
  },
  {
   "cell_type": "raw",
   "id": "fe427894-e3c7-41a3-b2ef-893f792b297d",
   "metadata": {},
   "source": [
    ">> You can specify the argument names in the function call, allowing you to pass them in any order."
   ]
  },
  {
   "cell_type": "code",
   "execution_count": 3,
   "id": "f901b58c-69a8-4abe-9aa8-a6b81af5bcef",
   "metadata": {},
   "outputs": [
    {
     "name": "stdout",
     "output_type": "stream",
     "text": [
      "My name is Bob and I am 25 years old.\n"
     ]
    }
   ],
   "source": [
    "def introduce(name, age):\n",
    "    print(f\"My name is {name} and I am {age} years old.\")\n",
    "\n",
    "introduce(age=25, name=\"Bob\")  # Keyword arguments"
   ]
  },
  {
   "cell_type": "markdown",
   "id": "7b205f96-d50b-490f-9515-1a425eedc77a",
   "metadata": {},
   "source": [
    "#### 3. Default Arguments:"
   ]
  },
  {
   "cell_type": "raw",
   "id": "b5b8ab09-b38c-45a2-9508-ffc5602863e7",
   "metadata": {},
   "source": [
    ">> In a function definition, you can assign default values to parameters. If no argument is provided for that parameter when the function is called, the default value is used."
   ]
  },
  {
   "cell_type": "code",
   "execution_count": 4,
   "id": "c7837dd2-5bee-4c10-b9d6-fb8b6f2616b8",
   "metadata": {},
   "outputs": [
    {
     "name": "stdout",
     "output_type": "stream",
     "text": [
      "Hello, Guest!\n",
      "Hello, Alice!\n"
     ]
    }
   ],
   "source": [
    "def greet(name=\"Guest\"):\n",
    "    print(f\"Hello, {name}!\")\n",
    "\n",
    "greet()        # Uses the default value \"Guest\"\n",
    "greet(\"Alice\") # Overrides the default value with \"Alice\""
   ]
  },
  {
   "cell_type": "markdown",
   "id": "4b3b4e0f-86ce-4e4d-9aad-4df1e45fba26",
   "metadata": {},
   "source": [
    "#### 4. Variable-length Arguments:"
   ]
  },
  {
   "cell_type": "raw",
   "id": "4ec8837d-df99-42f5-a09b-6993915aed17",
   "metadata": {},
   "source": [
    ">> Sometimes, you may not know in advance how many arguments will be passed to a function. Python allows for this with *args (for positional arguments) and **kwargs (for keyword arguments)."
   ]
  },
  {
   "cell_type": "code",
   "execution_count": 5,
   "id": "b89b1598-c20e-41ea-bac1-e1ed9ca5226b",
   "metadata": {},
   "outputs": [
    {
     "name": "stdout",
     "output_type": "stream",
     "text": [
      "6\n"
     ]
    }
   ],
   "source": [
    "# *args for a variable number of positional arguments.\n",
    "\n",
    "def sum_all(*args):\n",
    "    return sum(args)\n",
    "\n",
    "print(sum_all(1, 2, 3))  # Output: 6"
   ]
  },
  {
   "cell_type": "code",
   "execution_count": 6,
   "id": "736585b6-9c27-4b0b-acca-bca9526973cc",
   "metadata": {},
   "outputs": [
    {
     "name": "stdout",
     "output_type": "stream",
     "text": [
      "name: Alice\n",
      "age: 25\n"
     ]
    }
   ],
   "source": [
    "# **kwargs for a variable number of keyword arguments.\n",
    "\n",
    "def print_info(**kwargs):\n",
    "    for key, value in kwargs.items():\n",
    "        print(f\"{key}: {value}\")\n",
    "\n",
    "print_info(name=\"Alice\", age=25)  # Output: name: Alice, age: 25"
   ]
  },
  {
   "cell_type": "markdown",
   "id": "2a6b764d-501e-4dce-abf6-14f3fcea2b54",
   "metadata": {},
   "source": [
    "### Summary"
   ]
  },
  {
   "cell_type": "raw",
   "id": "9ebceb12-533a-43f1-8cde-9685dd6d7bc6",
   "metadata": {},
   "source": [
    ">> Parameters are used in the function definition to define what data the function expects.\n",
    "\n",
    ">> Arguments are the actual values passed to the function when it is called."
   ]
  },
  {
   "cell_type": "markdown",
   "id": "22f3d72e-eb94-4fb0-9d4b-a4b41f1aa80a",
   "metadata": {},
   "source": [
    "# Question 3"
   ]
  },
  {
   "cell_type": "markdown",
   "id": "41252ebd-0999-4f60-998c-7f6031c48a4a",
   "metadata": {},
   "source": [
    "## What are the different ways to define and call a function in Python?"
   ]
  },
  {
   "cell_type": "raw",
   "id": "ac7708ba-9e9c-4557-8d3f-e1258a8a0d30",
   "metadata": {},
   "source": [
    ">> In Python, functions are defined using the def keyword or as anonymous functions using the lambda keyword. \n",
    "\n",
    ">> There are also other ways to define or call functions, like using decorators or with methods in classes. Below are the common ways to define and call functions in Python:"
   ]
  },
  {
   "cell_type": "markdown",
   "id": "9651bffc-6aca-4fb1-b513-8934c30e8d80",
   "metadata": {},
   "source": [
    "### 1. Standard Function Definition (def)"
   ]
  },
  {
   "cell_type": "raw",
   "id": "e910a787-9f8f-4133-82ea-2fba14dd3363",
   "metadata": {},
   "source": [
    ">> Functions are most commonly defined using the def keyword followed by the function name, parentheses, and a colon."
   ]
  },
  {
   "cell_type": "code",
   "execution_count": 5,
   "id": "e5c2593b-bb7c-4396-a91f-a02e82f6137d",
   "metadata": {},
   "outputs": [
    {
     "name": "stdout",
     "output_type": "stream",
     "text": [
      "Hello, Alice!\n"
     ]
    }
   ],
   "source": [
    "# Example for Standard Function Definition (def)\n",
    "\n",
    "def greet(name):\n",
    "    return f\"Hello, {name}!\"\n",
    "\n",
    "# Call the function\n",
    "print(greet(\"Alice\")) # Output : Hello, Alice!"
   ]
  },
  {
   "cell_type": "markdown",
   "id": "84c31fe5-1700-4baf-aec5-953d894e22a5",
   "metadata": {},
   "source": [
    "### 2. Lambda Functions (Anonymous Functions)"
   ]
  },
  {
   "cell_type": "raw",
   "id": "12c941b8-0609-43da-b988-6c51bf9eba11",
   "metadata": {},
   "source": [
    ">> Lambda functions are anonymous, single-expression functions that are defined using the lambda keyword. They are often used for short, throwaway functions."
   ]
  },
  {
   "cell_type": "code",
   "execution_count": 6,
   "id": "f4810b37-e94f-4915-a687-d84f69868a35",
   "metadata": {},
   "outputs": [
    {
     "name": "stdout",
     "output_type": "stream",
     "text": [
      "16\n"
     ]
    }
   ],
   "source": [
    "# Example for Lambda Functions (Anonymous Functions)\n",
    "\n",
    "# Define a lambda function\n",
    "square = lambda x: x ** 2\n",
    "\n",
    "# Call the lambda function\n",
    "print(square(4))  # Output : 16"
   ]
  },
  {
   "cell_type": "raw",
   "id": "3378d450-cc0f-4768-b348-64943a21903c",
   "metadata": {},
   "source": [
    ">> Lambda functions can also be passed directly as arguments to higher-order functions like map, filter, etc."
   ]
  },
  {
   "cell_type": "code",
   "execution_count": 9,
   "id": "22e39f3d-1019-453b-9d68-84243d6b40d3",
   "metadata": {},
   "outputs": [
    {
     "name": "stdout",
     "output_type": "stream",
     "text": [
      "[1, 4, 9, 16]\n"
     ]
    }
   ],
   "source": [
    "# Using lambda with map\n",
    "numbers = [1, 2, 3, 4]\n",
    "squares = list(map(lambda x: x ** 2, numbers))\n",
    "print(squares) # Output : [1, 4, 9, 16]"
   ]
  },
  {
   "cell_type": "markdown",
   "id": "460c3125-ea6f-4de1-ae13-f3e32001dd27",
   "metadata": {},
   "source": [
    "### 3. Function with Default Arguments"
   ]
  },
  {
   "cell_type": "raw",
   "id": "c25eaf4b-749e-48f2-b315-d083b07b2773",
   "metadata": {},
   "source": [
    ">> You can define functions with default values for arguments."
   ]
  },
  {
   "cell_type": "code",
   "execution_count": 10,
   "id": "4be5f226-51d8-4132-91b4-1299d0dd5e28",
   "metadata": {},
   "outputs": [
    {
     "name": "stdout",
     "output_type": "stream",
     "text": [
      "Hello, World!\n",
      "Hello, Bob!\n"
     ]
    }
   ],
   "source": [
    "# Example for Function with Default Arguments\n",
    "\n",
    "def greet(name=\"World\"):\n",
    "    return f\"Hello, {name}!\"\n",
    "\n",
    "# Call the function\n",
    "print(greet())       # Output: Hello, World!\n",
    "print(greet(\"Bob\"))  # Output: Hello, Bob!"
   ]
  },
  {
   "cell_type": "markdown",
   "id": "f5443cc9-937b-4afb-b469-131e20eedb32",
   "metadata": {},
   "source": [
    "### 4. Keyword Arguments"
   ]
  },
  {
   "cell_type": "raw",
   "id": "54c22ea3-94dd-42b5-a1fe-95421864d2ec",
   "metadata": {},
   "source": [
    ">> Functions can be called using keyword arguments."
   ]
  },
  {
   "cell_type": "code",
   "execution_count": 11,
   "id": "6384eeb4-c64b-4309-8d83-b5ad2e0f7fb7",
   "metadata": {},
   "outputs": [
    {
     "name": "stdout",
     "output_type": "stream",
     "text": [
      "Hi, Alice!\n"
     ]
    }
   ],
   "source": [
    "# Example for Keyword Arguments\n",
    "\n",
    "def greet(name, message=\"Hello\"):\n",
    "    return f\"{message}, {name}!\"\n",
    "\n",
    "# Call the function using keyword arguments\n",
    "print(greet(name=\"Alice\", message=\"Hi\"))   # Output: Hi, Alice!"
   ]
  },
  {
   "cell_type": "markdown",
   "id": "efe0c05f-c886-4522-b835-b1cd76ea0480",
   "metadata": {},
   "source": [
    "### 5. Variable-length Arguments (*args and **kwargs)"
   ]
  },
  {
   "cell_type": "raw",
   "id": "7d17f3b5-1932-4e39-8654-33053ba16a7a",
   "metadata": {},
   "source": [
    ">> '*args' is used to pass a variable number of non-keyword arguments.\n",
    "\n",
    ">> '**kwargs' is used to pass a variable number of keyword arguments."
   ]
  },
  {
   "cell_type": "code",
   "execution_count": 16,
   "id": "a2542b06-e4e8-4264-b093-a62d9ef815ad",
   "metadata": {},
   "outputs": [
    {
     "name": "stdout",
     "output_type": "stream",
     "text": [
      "Hello, Alice!\n",
      "Hello, Bob!\n",
      "Hello, Charlie!\n"
     ]
    }
   ],
   "source": [
    "# Function with *args\n",
    "\n",
    "def greet_all(*names):\n",
    "    for name in names:\n",
    "        print(f\"Hello, {name}!\")\n",
    "\n",
    "# Call the function with multiple arguments\n",
    "greet_all(\"Alice\", \"Bob\", \"Charlie\")"
   ]
  },
  {
   "cell_type": "code",
   "execution_count": 17,
   "id": "ffc93f79-356c-4d1f-8c16-2f771c110005",
   "metadata": {},
   "outputs": [
    {
     "name": "stdout",
     "output_type": "stream",
     "text": [
      "Hi, Alice!\n",
      "Good morning, Bob!\n"
     ]
    }
   ],
   "source": [
    "# Function with **kwargs\n",
    "\n",
    "def greet_with_custom_message(**kwargs):\n",
    "    for name, message in kwargs.items():\n",
    "        print(f\"{message}, {name}!\")\n",
    "\n",
    "# Call the function with keyword arguments\n",
    "greet_with_custom_message(Alice=\"Hi\", Bob=\"Good morning\")"
   ]
  },
  {
   "cell_type": "markdown",
   "id": "7ab6a45c-1bae-4eea-af30-8357539db9a8",
   "metadata": {},
   "source": [
    "### 6. Returning Multiple Values"
   ]
  },
  {
   "cell_type": "raw",
   "id": "7351eff1-b2fb-4158-8860-c01bfe7078d6",
   "metadata": {},
   "source": [
    ">> Python allows returning multiple values from a function using tuples."
   ]
  },
  {
   "cell_type": "code",
   "execution_count": 18,
   "id": "29b5d8e6-4bef-4af8-87de-3e4203b6297f",
   "metadata": {},
   "outputs": [
    {
     "name": "stdout",
     "output_type": "stream",
     "text": [
      "10 20\n"
     ]
    }
   ],
   "source": [
    "def get_coordinates():\n",
    "    return (10, 20)\n",
    "\n",
    "# Call the function and unpack the values\n",
    "x, y = get_coordinates()\n",
    "print(x, y)"
   ]
  },
  {
   "cell_type": "markdown",
   "id": "e5c33563-4823-4084-b20a-bb3fd65e1f52",
   "metadata": {},
   "source": [
    "### 7. Functions as First-Class Citizens"
   ]
  },
  {
   "cell_type": "raw",
   "id": "df649377-9934-482c-b279-22da27da03e1",
   "metadata": {},
   "source": [
    ">> Functions in Python are first-class objects, meaning they can be passed as arguments to other functions, returned from functions, and assigned to variables."
   ]
  },
  {
   "cell_type": "code",
   "execution_count": 20,
   "id": "f4ed7b41-e027-41b9-bfd9-3b2a4bb2dc6c",
   "metadata": {},
   "outputs": [
    {
     "name": "stdout",
     "output_type": "stream",
     "text": [
      "Hello, Alice!\n"
     ]
    }
   ],
   "source": [
    "# Example for Functions as First-Class Citizens\n",
    "\n",
    "def greet(name):\n",
    "    return f\"Hello, {name}!\"\n",
    "\n",
    "def call_greeting(func, name):\n",
    "    return func(name)\n",
    "\n",
    "# Call the higher-order function\n",
    "print(call_greeting(greet, \"Alice\"))"
   ]
  },
  {
   "cell_type": "markdown",
   "id": "ae9a8ae0-b6a7-40b6-93f1-40e71c2a25e6",
   "metadata": {},
   "source": [
    "### 8. Generator Functions using yield"
   ]
  },
  {
   "cell_type": "raw",
   "id": "aeabc9f7-9283-412f-9383-17075647cd9a",
   "metadata": {},
   "source": [
    ">> Generator functions are defined like regular functions but use the yield keyword to return one item at a time."
   ]
  },
  {
   "cell_type": "code",
   "execution_count": 24,
   "id": "cffcd6e0-8476-4ab2-90d9-77669da50566",
   "metadata": {},
   "outputs": [
    {
     "name": "stdout",
     "output_type": "stream",
     "text": [
      "1\n",
      "2\n",
      "3\n",
      "4\n",
      "5\n"
     ]
    }
   ],
   "source": [
    "#Example for Generator Functions using yield\n",
    "\n",
    "def count_up_to(max):\n",
    "    count = 1\n",
    "    while count <= max:\n",
    "        yield count\n",
    "        count += 1\n",
    "counter = count_up_to(5)\n",
    "for num in counter:\n",
    "    print(num)\n",
    "# Output:\n",
    "# 1\n",
    "# 2\n",
    "# 3\n",
    "# 4\n",
    "# 5"
   ]
  },
  {
   "cell_type": "markdown",
   "id": "8799cd23-2541-4b13-9601-c8a43713a0c6",
   "metadata": {},
   "source": [
    "### 9. Methods in Classes"
   ]
  },
  {
   "cell_type": "raw",
   "id": "28e88ed1-051d-467f-ae1e-bc5d11d6e9d6",
   "metadata": {},
   "source": [
    ">> Functions can also be defined as methods inside classes, where they operate on class instances."
   ]
  },
  {
   "cell_type": "code",
   "execution_count": 26,
   "id": "20b6d483-15c4-4dd2-ad8d-317aa5e73ef3",
   "metadata": {},
   "outputs": [
    {
     "name": "stdout",
     "output_type": "stream",
     "text": [
      "Hello, Alice!\n"
     ]
    }
   ],
   "source": [
    "# Example for Method in class\n",
    "\n",
    "class Greeter:\n",
    "    def __init__(self, name):\n",
    "        self.name = name\n",
    "    \n",
    "    def greet(self):\n",
    "        return f\"Hello, {self.name}!\"\n",
    "\n",
    "# Create an instance and call the method\n",
    "greeter = Greeter(\"Alice\")\n",
    "print(greeter.greet())"
   ]
  },
  {
   "cell_type": "markdown",
   "id": "1dcfc652-364d-4d87-9a83-b63686bb87c9",
   "metadata": {},
   "source": [
    "### 10. Recursive Functions"
   ]
  },
  {
   "cell_type": "raw",
   "id": "75326272-7ba7-4355-a998-61ae6176e164",
   "metadata": {},
   "source": [
    ">> A function can call itself. This is known as recursion."
   ]
  },
  {
   "cell_type": "code",
   "execution_count": 28,
   "id": "f9163e2e-1def-4d48-b226-06756b4cf50b",
   "metadata": {},
   "outputs": [
    {
     "name": "stdout",
     "output_type": "stream",
     "text": [
      "120\n"
     ]
    }
   ],
   "source": [
    "# Example for Recursive functions\n",
    "\n",
    "def factorial(n):\n",
    "    if n == 1:\n",
    "        return 1\n",
    "    return n * factorial(n - 1)\n",
    "\n",
    "# Call the recursive function\n",
    "print(factorial(5))"
   ]
  },
  {
   "cell_type": "markdown",
   "id": "3635126b-4033-4b49-81d3-bea80e6f8ca0",
   "metadata": {},
   "source": [
    "# Question 4"
   ]
  },
  {
   "cell_type": "markdown",
   "id": "f4cbd7ae-f0d2-4766-bf79-6769ff1d165e",
   "metadata": {},
   "source": [
    "## What is the purpose of 'return' statement in a Python function?"
   ]
  },
  {
   "cell_type": "raw",
   "id": "fa1fbab7-8964-47ca-b7ac-cc6d3dbe6f08",
   "metadata": {},
   "source": [
    ">> The return statement in a Python function is used to exit the function and send a value back to the caller. It serves two main purposes:"
   ]
  },
  {
   "cell_type": "markdown",
   "id": "d84d4f08-b82b-439c-93df-15f9663c17e9",
   "metadata": {},
   "source": [
    "### 1. Exiting the Function:"
   ]
  },
  {
   "cell_type": "raw",
   "id": "1523e0e0-1b01-4cfe-99ed-0a2575b68f3a",
   "metadata": {},
   "source": [
    ">> When Python encounters a return statement, it immediately exits the function, even if there is more code after the return. \n",
    "\n",
    ">> That code will not be executed."
   ]
  },
  {
   "cell_type": "markdown",
   "id": "ebcddbae-7e45-41a6-8c77-a8f1fe60eb89",
   "metadata": {},
   "source": [
    "### 2. Returning a Value:"
   ]
  },
  {
   "cell_type": "raw",
   "id": "dfad299d-0db1-4b68-90ff-85dc7ac8fa97",
   "metadata": {},
   "source": [
    ">> The value (or values) specified after the return statement is passed back to the part of the program that called the function. \n",
    "\n",
    ">> If no value is provided, the function returns None by default."
   ]
  },
  {
   "cell_type": "markdown",
   "id": "73b8b89f-d1f4-41e4-8216-0cdf51e4ca19",
   "metadata": {},
   "source": [
    "### Example"
   ]
  },
  {
   "cell_type": "code",
   "execution_count": 1,
   "id": "844e0a36-b844-4200-b4e0-41d3027d240d",
   "metadata": {},
   "outputs": [
    {
     "name": "stdout",
     "output_type": "stream",
     "text": [
      "7\n"
     ]
    }
   ],
   "source": [
    "def add(a, b):\n",
    "    return a + b  # Returns the sum of a and b\n",
    "\n",
    "result = add(3, 4)\n",
    "print(result)  # Outputs: 7"
   ]
  },
  {
   "cell_type": "raw",
   "id": "f6653b6d-d8a6-4a57-8d9e-cb9fc2f573cc",
   "metadata": {},
   "source": [
    ">> In the above example, return a + b exits the add function and sends the result (7) back to the calling code."
   ]
  },
  {
   "cell_type": "markdown",
   "id": "169e0479-35f9-403b-a9d2-2d9760b1c086",
   "metadata": {},
   "source": [
    "# Question 5"
   ]
  },
  {
   "cell_type": "markdown",
   "id": "1136ecc2-6824-44d2-ae9c-20f260831ab2",
   "metadata": {},
   "source": [
    "## What are iterators in Python and how do they differ from iterables?"
   ]
  },
  {
   "cell_type": "raw",
   "id": "1755a219-8818-4a37-9ab3-0071a523f4e7",
   "metadata": {},
   "source": [
    ">> In Python, iterators and iterables are related concepts used for iterating over data, but they have distinct meanings and roles."
   ]
  },
  {
   "cell_type": "markdown",
   "id": "aeb237d6-ece3-474a-a51c-65beadf0e9d8",
   "metadata": {},
   "source": [
    "### 1. Iterable:"
   ]
  },
  {
   "cell_type": "raw",
   "id": "9bc41beb-bcf7-4bd2-9c4f-517c3901e786",
   "metadata": {},
   "source": [
    ">> An iterable is any Python object capable of returning its members one at a time, allowing it to be looped over (e.g., using a for loop).\n",
    "\n",
    ">> Examples of iterables include lists, tuples, strings, dictionaries, sets, etc.\n",
    "\n",
    ">> Technically, an object is an iterable if it implements the __iter__() method, which returns an iterator."
   ]
  },
  {
   "cell_type": "code",
   "execution_count": 7,
   "id": "2ba68c39-e07a-497f-a708-7fde4017650b",
   "metadata": {},
   "outputs": [],
   "source": [
    "## Examples of iterables:\n",
    "\n",
    "my_list = [1, 2, 3]   # list is iterable\n",
    "my_tuple = (4, 5, 6)  # tuple is iterable\n",
    "my_string = \"hello\"   # string is iterable"
   ]
  },
  {
   "cell_type": "markdown",
   "id": "645d8de3-b66b-4829-9430-a2be36715a3e",
   "metadata": {},
   "source": [
    "### 2. Iterator:"
   ]
  },
  {
   "cell_type": "raw",
   "id": "902d4d95-2e32-45bf-9c9d-d0ef1bb51c74",
   "metadata": {},
   "source": [
    ">> An iterator is an object that represents a stream of data, typically returned by calling iter() on an iterable.\n",
    "\n",
    ">> It knows how to get the next value when you call next() on it, and it keeps track of where it is in the sequence.\n",
    "\n",
    ">> An iterator must implement two methods:\n",
    "\n",
    "1. __iter__() (returns itself)\n",
    "\n",
    "2. __next__() (returns the next item, or raises StopIteration when no more items are available)."
   ]
  },
  {
   "cell_type": "code",
   "execution_count": 10,
   "id": "f105e3b5-8d9a-4be1-a081-a59755be598c",
   "metadata": {},
   "outputs": [
    {
     "name": "stdout",
     "output_type": "stream",
     "text": [
      "1\n",
      "2\n",
      "3\n"
     ]
    }
   ],
   "source": [
    "# Example of an iterator:\n",
    "\n",
    "my_list = [1, 2, 3]  # a list is iterable\n",
    "my_iterator = iter(my_list)  # get an iterator from the list\n",
    "\n",
    "print(next(my_iterator))  # Output: 1\n",
    "print(next(my_iterator))  # Output: 2\n",
    "print(next(my_iterator))  # Output: 3\n",
    "# next(my_iterator) now would raise StopIteration as the list has no more items"
   ]
  },
  {
   "cell_type": "markdown",
   "id": "aac7f207-e3e6-4bf5-aa61-655979e7eec9",
   "metadata": {},
   "source": [
    "### Key Differences:"
   ]
  },
  {
   "cell_type": "markdown",
   "id": "b43757a2-99ce-4de4-a851-7227d1fc709b",
   "metadata": {},
   "source": [
    "#### 1. Usage:"
   ]
  },
  {
   "cell_type": "raw",
   "id": "711edf21-52f4-4ff0-9fd5-053e8a412270",
   "metadata": {},
   "source": [
    ">> Iterable: Represents a collection of data (e.g., list, tuple) that can return an iterator.\n",
    "\n",
    ">> Iterator: The object used to traverse through the elements in the iterable."
   ]
  },
  {
   "cell_type": "markdown",
   "id": "b5a732bf-9003-4ee9-a9fb-30ab4840a91a",
   "metadata": {},
   "source": [
    "#### 2. Methods:"
   ]
  },
  {
   "cell_type": "raw",
   "id": "3767f07d-13fa-4918-a667-e7b05081cfbf",
   "metadata": {},
   "source": [
    ">> Iterable: Must have an __iter__() method that returns an iterator.\n",
    "\n",
    ">> Iterator: Must have both __iter__() and __next__() methods. Calling __next__() retrieves the next value in the sequence."
   ]
  },
  {
   "cell_type": "markdown",
   "id": "2c9f663b-a8c0-4a43-b88e-676960ec7474",
   "metadata": {},
   "source": [
    "#### 3. State:"
   ]
  },
  {
   "cell_type": "raw",
   "id": "3df4bd5b-9352-4618-9f64-b3f620204d58",
   "metadata": {},
   "source": [
    ">> Iterable: Does not maintain iteration state (it can be traversed multiple times, e.g., you can use a for loop on a list repeatedly).\n",
    "\n",
    ">> Iterator: Maintains iteration state, meaning once an iterator has exhausted its elements, it cannot be reused (unless reinitialized)."
   ]
  },
  {
   "cell_type": "markdown",
   "id": "11f3fbc5-e793-4dac-adfb-f72b15bb19d7",
   "metadata": {},
   "source": [
    "### Summary"
   ]
  },
  {
   "cell_type": "raw",
   "id": "3d19848e-25a2-4b6a-af3e-5aea90c35489",
   "metadata": {},
   "source": [
    ">> Iterable: Anything you can loop over (lists, strings, etc.).\n",
    "\n",
    ">> Iterator: The object that iterates over the iterable, one element at a time."
   ]
  },
  {
   "cell_type": "markdown",
   "id": "59cf75f4-9bce-4973-b0da-eef7735d1334",
   "metadata": {},
   "source": [
    "# Question 6"
   ]
  },
  {
   "cell_type": "markdown",
   "id": "98d37cea-fa00-430c-ad05-42a285397db5",
   "metadata": {},
   "source": [
    "## Explain the concept of generators in Python and how they are defined."
   ]
  },
  {
   "cell_type": "markdown",
   "id": "0d7fff96-1d54-42bc-9145-85294ccc1713",
   "metadata": {},
   "source": [
    "### Generators in Python"
   ]
  },
  {
   "cell_type": "raw",
   "id": "7e0ecb25-2eb3-4439-bbbf-5d34dbc3cf5b",
   "metadata": {},
   "source": [
    ">> A generator in Python is a special type of iterator that allows you to iterate over a sequence of values lazily, which means that it produces values on the fly and does not store them all in memory at once. This makes generators memory-efficient when dealing with large datasets or streams of data.\n",
    "\n",
    ">> Generators are created using functions and the 'yield' statement instead of 'return'. \n",
    "\n",
    ">> When a generator function is called, it returns a generator object without starting execution of the function. Each call to the generator's '__next__()' method (which happens implicitly in loops like 'for') resumes the function from where it last left off, running until the next 'yield' is encountered."
   ]
  },
  {
   "cell_type": "markdown",
   "id": "69ba0101-94c5-4dda-9bf3-c183a78edd3e",
   "metadata": {},
   "source": [
    "### Key Characteristics of Generators:"
   ]
  },
  {
   "cell_type": "markdown",
   "id": "67892d20-e69d-4392-b997-df2467ca1a19",
   "metadata": {},
   "source": [
    "#### 1. Lazy evaluation:"
   ]
  },
  {
   "cell_type": "raw",
   "id": "b2e91301-e118-4d66-b183-f646711cf3a6",
   "metadata": {},
   "source": [
    ">> They produce one value at a time and only when required."
   ]
  },
  {
   "cell_type": "markdown",
   "id": "daef4b6a-8e99-442e-b47c-88624faf0b7c",
   "metadata": {},
   "source": [
    "#### 2. Stateful:"
   ]
  },
  {
   "cell_type": "raw",
   "id": "e5d41ebc-fdbd-44e5-aca3-c5f39f14bba8",
   "metadata": {},
   "source": [
    ">> They remember where they left off in their sequence."
   ]
  },
  {
   "cell_type": "markdown",
   "id": "15d1fe53-284a-44d6-b5b9-47b8ba6a6200",
   "metadata": {},
   "source": [
    "#### 3. Memory efficiency:"
   ]
  },
  {
   "cell_type": "raw",
   "id": "7be8accd-c402-4c39-9298-1c1d761e585f",
   "metadata": {},
   "source": [
    ">> Since they don’t store the entire sequence in memory, they are suitable for handling large datasets."
   ]
  },
  {
   "cell_type": "markdown",
   "id": "185f702a-c4c5-4268-932c-87a93bbd4f18",
   "metadata": {},
   "source": [
    "### Defining a Generator"
   ]
  },
  {
   "cell_type": "raw",
   "id": "c327ad56-4bbb-4541-8c35-574f3ef1450d",
   "metadata": {},
   "source": [
    ">> Generators are defined using regular Python functions but with 'yield' instead of 'return'."
   ]
  },
  {
   "cell_type": "markdown",
   "id": "7c87fc47-18fe-4349-a76c-e906dfbda8a8",
   "metadata": {},
   "source": [
    "### Example"
   ]
  },
  {
   "cell_type": "code",
   "execution_count": 17,
   "id": "a813313f-8827-45d7-bc59-2b647df7896a",
   "metadata": {},
   "outputs": [
    {
     "name": "stdout",
     "output_type": "stream",
     "text": [
      "1\n",
      "2\n",
      "3\n"
     ]
    }
   ],
   "source": [
    "def my_generator():\n",
    "    yield 1\n",
    "    yield 2\n",
    "    yield 3\n",
    "\n",
    "# Using the generator\n",
    "gen = my_generator()\n",
    "\n",
    "for value in gen:\n",
    "    print(value)\n",
    "# Output :\n",
    "# 1\n",
    "# 2\n",
    "# 3"
   ]
  },
  {
   "cell_type": "raw",
   "id": "8f5311dd-c963-4d7b-a9c1-011b857f87f1",
   "metadata": {},
   "source": [
    ">> In the above example, the generator function 'my_generator()' uses 'yield' to produce values one at a time. Each time the generator is iterated over, the function resumes where it left off."
   ]
  },
  {
   "cell_type": "markdown",
   "id": "dca713cf-d10a-4abb-a728-937c46782a05",
   "metadata": {},
   "source": [
    "### How It Works:"
   ]
  },
  {
   "cell_type": "markdown",
   "id": "b7804e1a-a0bf-4b4f-8d57-f684af960022",
   "metadata": {},
   "source": [
    "#### 1. Generator Function:"
   ]
  },
  {
   "cell_type": "raw",
   "id": "258b0912-ebad-41a6-8e5e-79924d5df82b",
   "metadata": {},
   "source": [
    ">> A function with at least one 'yield' statement becomes a generator function."
   ]
  },
  {
   "cell_type": "markdown",
   "id": "4065d920-f438-427b-ba67-b5ee72015f64",
   "metadata": {},
   "source": [
    "#### 2. Generator Object:"
   ]
  },
  {
   "cell_type": "raw",
   "id": "d54f040b-3308-4c04-a130-c0400413f92e",
   "metadata": {},
   "source": [
    ">> Calling the generator function returns a generator object but does not execute the function immediately."
   ]
  },
  {
   "cell_type": "markdown",
   "id": "ab2d89bc-efa0-4c37-b0ac-56e02ebd4fe5",
   "metadata": {},
   "source": [
    "#### 3. Iteration:"
   ]
  },
  {
   "cell_type": "raw",
   "id": "d67854e7-4574-4697-9fed-8f22221e41e8",
   "metadata": {},
   "source": [
    ">> Each time the generator is iterated (e.g., using a 'for' loop or 'next()'), the function runs until it encounters 'yield', producing a value and pausing at that point."
   ]
  },
  {
   "cell_type": "markdown",
   "id": "05cb3819-9306-4f81-b8e0-b2c09fb989ba",
   "metadata": {},
   "source": [
    "#### 4. Termination:"
   ]
  },
  {
   "cell_type": "raw",
   "id": "cb47fffe-0f36-406c-b499-c827c6a576b8",
   "metadata": {},
   "source": [
    ">> Once the function reaches its end (no more 'yield'), it raises a StopIteration exception, signaling the end of the iteration."
   ]
  },
  {
   "cell_type": "markdown",
   "id": "659f9f26-1e35-4a2c-8a26-4a9d4604712f",
   "metadata": {},
   "source": [
    "### Comparison with Regular Functions"
   ]
  },
  {
   "cell_type": "raw",
   "id": "b8700d89-2b5b-405d-81ee-f3b497c6d4f6",
   "metadata": {},
   "source": [
    ">> A regular function returns a single value and terminates after the 'return' statement.\n",
    "\n",
    ">> A generator function can yield multiple values, resuming from where it left off each time it's called."
   ]
  },
  {
   "cell_type": "markdown",
   "id": "958b1b9a-024f-47e9-977e-577ea39c1863",
   "metadata": {},
   "source": [
    "### Practical Example of Generator:"
   ]
  },
  {
   "cell_type": "code",
   "execution_count": 20,
   "id": "21c17204-1d54-4e55-90ba-07cd1405422a",
   "metadata": {},
   "outputs": [
    {
     "name": "stdout",
     "output_type": "stream",
     "text": [
      "0\n",
      "1\n",
      "1\n",
      "2\n",
      "3\n",
      "5\n",
      "8\n",
      "13\n",
      "21\n",
      "34\n"
     ]
    }
   ],
   "source": [
    "def fibonacci(n):\n",
    "    a, b = 0, 1\n",
    "    for _ in range(n):\n",
    "        yield a\n",
    "        a, b = b, a + b\n",
    "\n",
    "# Generate first 10 Fibonacci numbers\n",
    "for num in fibonacci(10):\n",
    "    print(num)"
   ]
  },
  {
   "cell_type": "raw",
   "id": "6cab1bed-d3f9-4e5d-8934-d2af4d004f96",
   "metadata": {},
   "source": [
    ">> This generator produces the Fibonacci sequence up to 'n' numbers without storing the entire sequence in memory."
   ]
  },
  {
   "cell_type": "markdown",
   "id": "28f86ea2-00ee-4ffa-8206-e8f72ae65d58",
   "metadata": {},
   "source": [
    "# Question 7"
   ]
  },
  {
   "cell_type": "markdown",
   "id": "871fee4c-96c0-43b0-86c9-28c072f3eaa8",
   "metadata": {},
   "source": [
    "## What are the advantages of using generators over regular functions?"
   ]
  },
  {
   "cell_type": "raw",
   "id": "63ff52ec-f9d5-4c73-ae5d-22fc9702c26e",
   "metadata": {},
   "source": [
    ">> Generators offer several advantages over regular functions in Python, particularly when dealing with large datasets, infinite sequences, or when you need to maintain state between function calls. Here are the main advantages:"
   ]
  },
  {
   "cell_type": "markdown",
   "id": "f24d338d-9f62-44d6-99ae-bbbabf92e309",
   "metadata": {},
   "source": [
    "### 1. Memory Efficiency"
   ]
  },
  {
   "cell_type": "raw",
   "id": "eeb19013-645f-497b-b15b-8115afeeb55b",
   "metadata": {},
   "source": [
    ">> Lazy Evaluation: Generators produce values one at a time and only when requested (using the 'yield' statement).\n",
    "\n",
    ">> This means they don't store the entire sequence in memory, unlike regular functions that return lists or other collections. \n",
    "\n",
    ">> This is particularly useful when dealing with large datasets or streams of data."
   ]
  },
  {
   "cell_type": "raw",
   "id": "69b92113-68cc-4df9-ba16-d6672113bc26",
   "metadata": {},
   "source": [
    ">> No need to build large data structures: Instead of returning large lists or arrays, generators provide values on-the-fly, which is useful when you don't need the entire collection at once."
   ]
  },
  {
   "cell_type": "markdown",
   "id": "8ada7e2b-5c52-4090-ad58-e7a20af27e6e",
   "metadata": {},
   "source": [
    "### 2. Improved Performance"
   ]
  },
  {
   "cell_type": "raw",
   "id": "6625eefb-5a3a-40cb-b032-7b25d972ca23",
   "metadata": {},
   "source": [
    ">> Since generators yield values one at a time, they avoid the overhead of creating and holding large data structures in memory, which leads to faster performance, especially when dealing with large or infinite sequences.\n",
    "\n",
    ">> Generators reduce the time-to-first-value delay: A generator can start yielding values immediately, rather than waiting to compute and store the entire result set."
   ]
  },
  {
   "cell_type": "markdown",
   "id": "523ca294-0760-4042-a62f-1606df1f6bfa",
   "metadata": {},
   "source": [
    "### 3. Pipelining (Stream Processing)"
   ]
  },
  {
   "cell_type": "raw",
   "id": "f3528f89-7da8-439b-ac23-73e17ef02557",
   "metadata": {},
   "source": [
    ">> Generators can be chained together in pipelines, passing data from one generator to the next, without building intermediate lists. \n",
    "\n",
    ">> This allows efficient stream processing, where data can be processed in a step-by-step manner."
   ]
  },
  {
   "cell_type": "markdown",
   "id": "451f6ffb-781e-4f61-bbbe-d02dce6f959b",
   "metadata": {},
   "source": [
    "### 4. Handling Infinite Sequences"
   ]
  },
  {
   "cell_type": "raw",
   "id": "88a41e0a-c453-438a-ada2-d7626e8aa63a",
   "metadata": {},
   "source": [
    ">> Generators can generate values infinitely or for very large ranges. \n",
    "\n",
    ">> Regular functions would need to return the entire sequence at once, which would be impractical for infinite or very large datasets."
   ]
  },
  {
   "cell_type": "markdown",
   "id": "ed8f7281-104b-4539-8835-6cfe6036a624",
   "metadata": {},
   "source": [
    "### 5. State Preservation"
   ]
  },
  {
   "cell_type": "raw",
   "id": "2c11c6b9-dcef-4b16-871d-ce5893ab4164",
   "metadata": {},
   "source": [
    ">> Generators maintain their state between iterations. \n",
    "\n",
    ">> Each time the generator's '__next__()' method is called, execution resumes from where it left off, preserving variables and the current point of execution without needing to rebuild or reinitialize the entire state."
   ]
  },
  {
   "cell_type": "markdown",
   "id": "9abe58ef-cb5d-4b40-a7ae-464f938f4f82",
   "metadata": {},
   "source": [
    "### 6. Simpler Code for Iteration"
   ]
  },
  {
   "cell_type": "raw",
   "id": "d3f952a1-cdef-47ef-915c-f6aa1a13c762",
   "metadata": {},
   "source": [
    ">> Writing generators can simplify code for certain types of iteration where the logic is complex. \n",
    "\n",
    ">> Instead of manually managing state (as with loops and other constructs), the generator naturally pauses and resumes execution with each 'yield'."
   ]
  },
  {
   "cell_type": "markdown",
   "id": "543e6012-489d-4999-b9ce-521100a74990",
   "metadata": {},
   "source": [
    "### 7. Reduced Overhead for Recursion"
   ]
  },
  {
   "cell_type": "raw",
   "id": "7ffa84eb-030a-41b9-b5c7-2f5918e3f539",
   "metadata": {},
   "source": [
    ">> Generators allow functions to iterate over large sequences without the risk of stack overflow from deep recursion, since they don’t need to store all intermediate results in memory."
   ]
  },
  {
   "cell_type": "markdown",
   "id": "fe648e26-d3df-444c-bb30-8818dc372f78",
   "metadata": {},
   "source": [
    "### Example 1"
   ]
  },
  {
   "cell_type": "code",
   "execution_count": 23,
   "id": "7f63b3c3-11c6-49b3-8f91-0a4fb30d2a79",
   "metadata": {},
   "outputs": [
    {
     "name": "stdout",
     "output_type": "stream",
     "text": [
      "1\n",
      "2\n",
      "3\n",
      "4\n",
      "5\n"
     ]
    }
   ],
   "source": [
    "def count_up_to(n):\n",
    "    count = 1\n",
    "    while count <= n:\n",
    "        yield count\n",
    "        count += 1\n",
    "\n",
    "# Using the generator\n",
    "for number in count_up_to(5):\n",
    "    print(number)"
   ]
  },
  {
   "cell_type": "raw",
   "id": "ad71826d-edff-4cae-afb7-98431da673ab",
   "metadata": {},
   "source": [
    ">> In Example 1, The code uses a generator to count numbers up to a specified value, yielding one at a time instead of creating a list with all values at once."
   ]
  },
  {
   "cell_type": "markdown",
   "id": "429ddbb8-7140-4231-a155-8afefaaf8e26",
   "metadata": {},
   "source": [
    "### Example 2"
   ]
  },
  {
   "cell_type": "code",
   "execution_count": 24,
   "id": "2f5e80f8-577e-4d52-87fb-620c91fac7e8",
   "metadata": {},
   "outputs": [
    {
     "name": "stdout",
     "output_type": "stream",
     "text": [
      "1\n",
      "2\n"
     ]
    }
   ],
   "source": [
    "def my_generator():\n",
    "    yield 1\n",
    "    yield 2\n",
    "    yield 3\n",
    "\n",
    "gen = my_generator()\n",
    "print(next(gen))  # Output: 1\n",
    "print(next(gen))  # Output: 2"
   ]
  },
  {
   "cell_type": "raw",
   "id": "d2fddf5a-d297-4024-9bea-ab537453185c",
   "metadata": {},
   "source": [
    "In Example 2, the generator yields values one by one, maintaining its state between calls, unlike a regular function which would return all values at once."
   ]
  },
  {
   "cell_type": "markdown",
   "id": "b20fd690-a556-4238-9130-53da871f5947",
   "metadata": {},
   "source": [
    "### Summary"
   ]
  },
  {
   "cell_type": "raw",
   "id": "7dd796d9-2c4b-49ed-9c68-ce1c27e9c843",
   "metadata": {},
   "source": [
    ">> The main advantages of generators over regular functions are memory efficiency, improved performance, ability to handle large or infinite sequences, and simplified iteration logic."
   ]
  },
  {
   "cell_type": "markdown",
   "id": "72fd8728-7edb-4d2b-ada4-3799999b31c9",
   "metadata": {},
   "source": [
    "# Question 8"
   ]
  },
  {
   "cell_type": "markdown",
   "id": "d8df2642-c880-4145-bc35-d4c773407f0c",
   "metadata": {},
   "source": [
    "## What is a lambda function in Python and when is it typically used?"
   ]
  },
  {
   "cell_type": "raw",
   "id": "593ec17b-0325-4fcd-b577-ca741b967baf",
   "metadata": {},
   "source": [
    ">> A lambda function in Python is a small, anonymous function defined using the lambda keyword. \n",
    "\n",
    ">> It's useful for creating short, throwaway functions that are typically used in situations where you need a function for a short period and don’t want to formally define it using the def keyword."
   ]
  },
  {
   "cell_type": "markdown",
   "id": "8848c23e-f8e9-435e-86d5-ab31b776d138",
   "metadata": {},
   "source": [
    "### Syntax"
   ]
  },
  {
   "cell_type": "code",
   "execution_count": 26,
   "id": "aee39fa2-a78a-4c8a-95b8-d4b241afd604",
   "metadata": {},
   "outputs": [
    {
     "data": {
      "text/plain": [
       "<function __main__.<lambda>(arguments)>"
      ]
     },
     "execution_count": 26,
     "metadata": {},
     "output_type": "execute_result"
    }
   ],
   "source": [
    "# The syntax of a lambda function is:\n",
    "\n",
    "lambda arguments: expression\n",
    "\n",
    "# arguments: A comma-separated list of arguments.\n",
    "\n",
    "# expression: A single expression that is evaluated and returned."
   ]
  },
  {
   "cell_type": "markdown",
   "id": "046ab5a9-efb6-426d-8bab-c8ed5d9f82f9",
   "metadata": {},
   "source": [
    "### Example"
   ]
  },
  {
   "cell_type": "code",
   "execution_count": 28,
   "id": "5f236c16-f525-4672-93d3-22df5978f30e",
   "metadata": {},
   "outputs": [
    {
     "name": "stdout",
     "output_type": "stream",
     "text": [
      "8\n"
     ]
    }
   ],
   "source": [
    "# Here's a basic example of a lambda function that adds two numbers:\n",
    "\n",
    "add = lambda x, y: x + y\n",
    "print(add(3, 5))  # Output: 8"
   ]
  },
  {
   "cell_type": "markdown",
   "id": "011684ba-4b23-4adc-8c8f-2865bbf0edca",
   "metadata": {},
   "source": [
    "### Typical Use Cases"
   ]
  },
  {
   "cell_type": "markdown",
   "id": "59041201-abd5-4bd0-9106-34e17ea27ac1",
   "metadata": {},
   "source": [
    "#### 1. Short Functions:"
   ]
  },
  {
   "cell_type": "raw",
   "id": "1618c7e2-cbfc-4792-9303-9f91f2af122c",
   "metadata": {},
   "source": [
    ">> When you need a small function for a short period, such as in sorting or filtering operations."
   ]
  },
  {
   "cell_type": "markdown",
   "id": "889d75c9-4875-43af-a585-912dd94be1a9",
   "metadata": {},
   "source": [
    "#### 2. Functional Programming:"
   ]
  },
  {
   "cell_type": "raw",
   "id": "6b79eb69-a688-40c6-9f20-b0af02a91cd9",
   "metadata": {},
   "source": [
    ">> Lambda functions are often used with functions like 'map()', 'filter()', and 'reduce()' that take other functions as arguments."
   ]
  },
  {
   "cell_type": "markdown",
   "id": "5578d82d-7f7e-4b65-a690-1af69724a3fc",
   "metadata": {},
   "source": [
    "##### 2.1 map():"
   ]
  },
  {
   "cell_type": "raw",
   "id": "d64743a2-805e-4c2f-ad93-e0eb40d991da",
   "metadata": {},
   "source": [
    " >> Applies a function to all items in an iterable."
   ]
  },
  {
   "cell_type": "code",
   "execution_count": 31,
   "id": "d5ce386b-d8d9-49d4-ad03-cec3484fa0fd",
   "metadata": {},
   "outputs": [
    {
     "name": "stdout",
     "output_type": "stream",
     "text": [
      "[1, 4, 9, 16]\n"
     ]
    }
   ],
   "source": [
    "# Example  for map().\n",
    "\n",
    "numbers = [1, 2, 3, 4]\n",
    "squared = map(lambda x: x ** 2, numbers)\n",
    "print(list(squared))  # Output: [1, 4, 9, 16]"
   ]
  },
  {
   "cell_type": "markdown",
   "id": "dafc0d8b-aaa1-4682-9d3c-7b2a8039bc37",
   "metadata": {},
   "source": [
    "##### 2.2 filter():"
   ]
  },
  {
   "cell_type": "raw",
   "id": "af788a4c-0b02-4a49-b7f9-750b2dc1b836",
   "metadata": {},
   "source": [
    ">> Filters items in an iterable based on a function."
   ]
  },
  {
   "cell_type": "code",
   "execution_count": 32,
   "id": "1573456f-a4f6-46f8-be0b-2cb1ca32e5ab",
   "metadata": {},
   "outputs": [
    {
     "name": "stdout",
     "output_type": "stream",
     "text": [
      "[2, 4]\n"
     ]
    }
   ],
   "source": [
    "# Example for filter().\n",
    "\n",
    "numbers = [1, 2, 3, 4, 5]\n",
    "even_numbers = filter(lambda x: x % 2 == 0, numbers)\n",
    "print(list(even_numbers))  # Output: [2, 4]"
   ]
  },
  {
   "cell_type": "markdown",
   "id": "fc9db855-d337-4bdd-9d95-8870f96d9d4e",
   "metadata": {},
   "source": [
    "##### 2.3 reduce():"
   ]
  },
  {
   "cell_type": "raw",
   "id": "b093f0ed-ef89-4a9c-b775-3e649137fb89",
   "metadata": {},
   "source": [
    ">> Applies a function cumulatively to the items of an iterable."
   ]
  },
  {
   "cell_type": "code",
   "execution_count": 33,
   "id": "b9246185-088a-4228-8719-b07c50cbaeb7",
   "metadata": {},
   "outputs": [
    {
     "name": "stdout",
     "output_type": "stream",
     "text": [
      "24\n"
     ]
    }
   ],
   "source": [
    "# Example for reduce().\n",
    "\n",
    "from functools import reduce\n",
    "numbers = [1, 2, 3, 4]\n",
    "product = reduce(lambda x, y: x * y, numbers)\n",
    "print(product)  # Output: 24"
   ]
  },
  {
   "cell_type": "markdown",
   "id": "b350cd62-9517-4bf0-819f-b33b0b6ebf47",
   "metadata": {},
   "source": [
    "#### 3. Sorting"
   ]
  },
  {
   "cell_type": "raw",
   "id": "8ff209e9-4f14-4913-8b83-2f5fec101cae",
   "metadata": {},
   "source": [
    ">> When you need a custom sorting function for a list or other iterable."
   ]
  },
  {
   "cell_type": "code",
   "execution_count": 34,
   "id": "ac699e4a-638a-4e37-8b87-70440b0b9938",
   "metadata": {},
   "outputs": [
    {
     "name": "stdout",
     "output_type": "stream",
     "text": [
      "[('banana', 2), ('apple', 3), ('cherry', 5)]\n"
     ]
    }
   ],
   "source": [
    "# Example for Sorting\n",
    "\n",
    "data = [('apple', 3), ('banana', 2), ('cherry', 5)]\n",
    "data.sort(key=lambda x: x[1])\n",
    "print(data)  # Output: [('banana', 2), ('apple', 3), ('cherry', 5)]"
   ]
  },
  {
   "cell_type": "raw",
   "id": "88cb7151-5732-45b0-8295-32a420be490c",
   "metadata": {},
   "source": [
    ">> Lambda functions are best used for simple operations; for more complex logic, defining a full function using 'def' is usually clearer and more maintainable."
   ]
  },
  {
   "cell_type": "markdown",
   "id": "fe29c0c1-d4a1-43b9-996d-c2851ede710a",
   "metadata": {},
   "source": [
    "# Question 9"
   ]
  },
  {
   "cell_type": "markdown",
   "id": "7f34ca9b-eefc-4a77-a089-6d75081ff134",
   "metadata": {},
   "source": [
    "## Explain the purpose and usage of the 'map()' function in Python."
   ]
  },
  {
   "cell_type": "raw",
   "id": "17786623-a96c-4f89-a87c-5ee857fd1c34",
   "metadata": {},
   "source": [
    ">> The map() function in Python is a built-in function used for applying a specified function to each item of an iterable (like a list or a tuple) and returning an iterator that produces the results."
   ]
  },
  {
   "cell_type": "markdown",
   "id": "0afc62d5-94d6-4b6f-a52a-3dc246f08145",
   "metadata": {},
   "source": [
    "### Purpose:"
   ]
  },
  {
   "cell_type": "raw",
   "id": "06005357-14e5-4e6d-ae6f-d2c4127fe22f",
   "metadata": {},
   "source": [
    ">> Transformation: 'map()' is often used to transform data in a collection. For instance, if you have a list of numbers and you want to square each number, 'map()' can apply the squaring function to each item in the list."
   ]
  },
  {
   "cell_type": "markdown",
   "id": "cd92d4d2-e0b0-4443-940f-e065c17a9afd",
   "metadata": {},
   "source": [
    "### Syntax:"
   ]
  },
  {
   "cell_type": "code",
   "execution_count": 36,
   "id": "ea710418-3f4c-434f-ba75-c1a60b4583b9",
   "metadata": {},
   "outputs": [],
   "source": [
    "# map(function, iterable, ...)"
   ]
  },
  {
   "cell_type": "raw",
   "id": "23099f3e-ffea-43a2-85d1-c763ae6fe082",
   "metadata": {},
   "source": [
    ">> function: A function that takes one or more arguments.\n",
    "\n",
    ">> iterable: An iterable (e.g., list, tuple) whose elements will be passed to the function.\n",
    "\n",
    ">> You can also pass multiple iterables, and the function will be applied to the elements of these iterables in parallel."
   ]
  },
  {
   "cell_type": "markdown",
   "id": "35e58b95-6f98-4238-b819-00910af0ca50",
   "metadata": {},
   "source": [
    "### Example:"
   ]
  },
  {
   "cell_type": "markdown",
   "id": "7bf05831-5659-4d4e-b693-a43a9ea46162",
   "metadata": {},
   "source": [
    "#### 1. Single Iterable:"
   ]
  },
  {
   "cell_type": "code",
   "execution_count": 4,
   "id": "8e756eb0-7cb6-4d13-b646-fef5d04a98ba",
   "metadata": {},
   "outputs": [
    {
     "name": "stdout",
     "output_type": "stream",
     "text": [
      "[1, 4, 9, 16, 25]\n"
     ]
    }
   ],
   "source": [
    "# Define a function to square a number\n",
    "def square(x):\n",
    "    return x * x\n",
    "\n",
    "# List of numbers\n",
    "numbers = [1, 2, 3, 4, 5]\n",
    "\n",
    "# Use map to apply the function to each number\n",
    "squared_numbers = map(square, numbers)\n",
    "\n",
    "# Convert the result to a list and print\n",
    "print(list(squared_numbers))\n",
    "# Output: [1, 4, 9, 16, 25]"
   ]
  },
  {
   "cell_type": "markdown",
   "id": "bb236143-df4c-40f7-aea3-4dc9271f654d",
   "metadata": {},
   "source": [
    "#### 2. Using Lambda Function:"
   ]
  },
  {
   "cell_type": "code",
   "execution_count": 41,
   "id": "205d274e-e11b-4d56-9518-4ac52e324550",
   "metadata": {},
   "outputs": [
    {
     "name": "stdout",
     "output_type": "stream",
     "text": [
      "[1, 4, 9, 16, 25]\n"
     ]
    }
   ],
   "source": [
    "numbers = [1, 2, 3, 4, 5]\n",
    "squared_numbers = map(lambda x: x * x, numbers)\n",
    "print(list(squared_numbers))\n",
    "# Output: [1, 4, 9, 16, 25]"
   ]
  },
  {
   "cell_type": "markdown",
   "id": "83fb664e-9ae5-42b8-9cb7-3b65179c4dc9",
   "metadata": {},
   "source": [
    "#### 3. Multiple Iterables:"
   ]
  },
  {
   "cell_type": "code",
   "execution_count": 42,
   "id": "1653dc85-72be-4022-b368-31c3ec6a4686",
   "metadata": {},
   "outputs": [
    {
     "name": "stdout",
     "output_type": "stream",
     "text": [
      "[5, 7, 9]\n"
     ]
    }
   ],
   "source": [
    "def add(x, y):\n",
    "    return x + y\n",
    "\n",
    "numbers1 = [1, 2, 3]\n",
    "numbers2 = [4, 5, 6]\n",
    "sum_numbers = map(add, numbers1, numbers2)\n",
    "print(list(sum_numbers))  # Output: [5, 7, 9]"
   ]
  },
  {
   "cell_type": "markdown",
   "id": "e143a450-130c-4234-92ee-4c68d6900595",
   "metadata": {},
   "source": [
    "### Key Points:"
   ]
  },
  {
   "cell_type": "raw",
   "id": "48bb2608-b7c2-4086-a113-4eb096059c39",
   "metadata": {},
   "source": [
    ">> The result of 'map()' is an iterator, so you need to convert it to a list or another collection type if you want to print or otherwise use it.\n",
    "\n",
    ">> 'map()' is generally used when you need to apply the same operation to each element of an iterable, and it can be more efficient and concise than using a loop."
   ]
  },
  {
   "cell_type": "markdown",
   "id": "64fe8e80-63ad-4ffd-8b94-b3c642ff02c5",
   "metadata": {},
   "source": [
    "# Question 10"
   ]
  },
  {
   "cell_type": "markdown",
   "id": "a35f2e2e-d78c-4ba1-bcdf-23d3ef5885b1",
   "metadata": {},
   "source": [
    "## What is the difference between 'map()','reduce()' and 'filter()' functions in Python?"
   ]
  },
  {
   "cell_type": "raw",
   "id": "92d24d59-03f2-484d-89d2-a3f5aff7d80a",
   "metadata": {},
   "source": [
    ">> In Python, 'map()', 'reduce()', and 'filter()' are functional programming tools used for processing collections of data. Here’s a quick rundown of each:"
   ]
  },
  {
   "cell_type": "markdown",
   "id": "ba8f2df4-6938-403d-981e-6b61f344da0d",
   "metadata": {},
   "source": [
    "### 1. map():"
   ]
  },
  {
   "cell_type": "markdown",
   "id": "05a8d90c-b23d-429d-a796-5cf842f5a293",
   "metadata": {},
   "source": [
    "#### Purpose:"
   ]
  },
  {
   "cell_type": "raw",
   "id": "f2798c0c-0160-4810-b975-46581dc5081b",
   "metadata": {},
   "source": [
    ">> Applies a given function to each item in an iterable (like a list) and returns an iterator of the results."
   ]
  },
  {
   "cell_type": "markdown",
   "id": "c7107c65-350b-4810-b19b-f6d36324508a",
   "metadata": {},
   "source": [
    "#### Syntax:"
   ]
  },
  {
   "cell_type": "raw",
   "id": "03cb3eb7-58a1-432d-9c53-2f781129a616",
   "metadata": {},
   "source": [
    ">> map(function, iterable, ...)"
   ]
  },
  {
   "cell_type": "markdown",
   "id": "883118c0-1050-498d-9c17-ca6c5ddf036d",
   "metadata": {},
   "source": [
    "#### Example:"
   ]
  },
  {
   "cell_type": "code",
   "execution_count": 1,
   "id": "ba5b15d8-47c8-413e-a869-8bf47b345648",
   "metadata": {},
   "outputs": [
    {
     "name": "stdout",
     "output_type": "stream",
     "text": [
      "[1, 4, 9, 16]\n"
     ]
    }
   ],
   "source": [
    "numbers = [1, 2, 3, 4]\n",
    "squared = map(lambda x: x**2, numbers)\n",
    "print(list(squared))  # Output: [1, 4, 9, 16]"
   ]
  },
  {
   "cell_type": "markdown",
   "id": "ec7621cd-bd28-41ec-a616-36bd7727bd29",
   "metadata": {},
   "source": [
    "### 2. reduce():"
   ]
  },
  {
   "cell_type": "markdown",
   "id": "5e407da4-685b-4e2a-910d-28b2fee3a455",
   "metadata": {},
   "source": [
    "#### Purpose:"
   ]
  },
  {
   "cell_type": "raw",
   "id": "7e738d95-576a-4136-b43d-db9499de8856",
   "metadata": {},
   "source": [
    ">> Applies a given function cumulatively to the items of an iterable, reducing the iterable to a single value."
   ]
  },
  {
   "cell_type": "markdown",
   "id": "1d6bf665-ec95-4dfb-a130-c88076248eb7",
   "metadata": {},
   "source": [
    "#### Syntax:"
   ]
  },
  {
   "cell_type": "raw",
   "id": "d9b1b628-c646-40a0-bcc1-8d2fa31a8f4b",
   "metadata": {},
   "source": [
    ">> reduce(function, iterable, [initializer])"
   ]
  },
  {
   "cell_type": "markdown",
   "id": "5a3dfaea-d0a5-4203-aadb-97422a8af952",
   "metadata": {},
   "source": [
    "#### Example:"
   ]
  },
  {
   "cell_type": "code",
   "execution_count": 3,
   "id": "74536816-7aae-4cee-9cb4-af93e1771f4d",
   "metadata": {},
   "outputs": [
    {
     "name": "stdout",
     "output_type": "stream",
     "text": [
      "10\n"
     ]
    }
   ],
   "source": [
    "from functools import reduce\n",
    "\n",
    "numbers = [1, 2, 3, 4]\n",
    "sum_result = reduce(lambda x, y: x + y, numbers)\n",
    "print(sum_result)  # Output: 10"
   ]
  },
  {
   "cell_type": "markdown",
   "id": "75a22f6d-71f3-4471-8423-5cc87d94f1cf",
   "metadata": {},
   "source": [
    "### 3. filter():"
   ]
  },
  {
   "cell_type": "markdown",
   "id": "50ef2175-05c5-4447-8973-044e47519522",
   "metadata": {},
   "source": [
    "#### Purpose:"
   ]
  },
  {
   "cell_type": "raw",
   "id": "5465bac0-ed71-45fd-a347-0f6b02cb232f",
   "metadata": {},
   "source": [
    ">> Constructs an iterator from elements of an iterable for which a function returns True."
   ]
  },
  {
   "cell_type": "markdown",
   "id": "55e819c6-b490-422e-b96d-b5df46fc1907",
   "metadata": {},
   "source": [
    "#### Syntax:"
   ]
  },
  {
   "cell_type": "raw",
   "id": "9cb9ad9e-4411-42f3-ac98-ae2e6d1623c8",
   "metadata": {},
   "source": [
    ">> filter(function, iterable)"
   ]
  },
  {
   "cell_type": "markdown",
   "id": "6b746f76-11e5-401d-825a-ee1e9a450cea",
   "metadata": {},
   "source": [
    "#### Example:"
   ]
  },
  {
   "cell_type": "code",
   "execution_count": 5,
   "id": "b6c80057-bd9f-492d-84a7-b49371a7bd80",
   "metadata": {},
   "outputs": [
    {
     "name": "stdout",
     "output_type": "stream",
     "text": [
      "[2, 4]\n"
     ]
    }
   ],
   "source": [
    "numbers = [1, 2, 3, 4]\n",
    "evens = filter(lambda x: x % 2 == 0, numbers)\n",
    "print(list(evens))  # Output: [2, 4]"
   ]
  },
  {
   "cell_type": "markdown",
   "id": "644a3269-d284-40ad-8b8e-66d08fa70fef",
   "metadata": {},
   "source": [
    "### Summary:"
   ]
  },
  {
   "cell_type": "raw",
   "id": "30e80340-e38f-45d6-ac67-307dcd5d3059",
   "metadata": {},
   "source": [
    ">> 'map()' transforms each item in an iterable.\n",
    "\n",
    ">> 'reduce()' combines items in an iterable into a single value.\n",
    "\n",
    ">> 'filter()' selects items from an iterable based on a condition."
   ]
  },
  {
   "cell_type": "code",
   "execution_count": null,
   "id": "0e2de14a-5424-4e11-a49b-02fb17a69acc",
   "metadata": {},
   "outputs": [],
   "source": []
  },
  {
   "cell_type": "code",
   "execution_count": null,
   "id": "9a15fea6-a776-4b18-8826-79a54d8faa02",
   "metadata": {},
   "outputs": [],
   "source": []
  },
  {
   "cell_type": "code",
   "execution_count": null,
   "id": "2bda66c8-0d6d-41c1-b191-ae451e833864",
   "metadata": {},
   "outputs": [],
   "source": []
  },
  {
   "cell_type": "code",
   "execution_count": null,
   "id": "1d5e6a7b-8edb-4f7d-812a-d85e06d423e8",
   "metadata": {},
   "outputs": [],
   "source": []
  }
 ],
 "metadata": {
  "kernelspec": {
   "display_name": "Python 3 (ipykernel)",
   "language": "python",
   "name": "python3"
  },
  "language_info": {
   "codemirror_mode": {
    "name": "ipython",
    "version": 3
   },
   "file_extension": ".py",
   "mimetype": "text/x-python",
   "name": "python",
   "nbconvert_exporter": "python",
   "pygments_lexer": "ipython3",
   "version": "3.10.8"
  }
 },
 "nbformat": 4,
 "nbformat_minor": 5
}
